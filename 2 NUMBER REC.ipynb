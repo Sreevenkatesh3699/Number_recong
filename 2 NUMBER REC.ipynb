{
 "cells": [
  {
   "cell_type": "code",
   "execution_count": 33,
   "id": "36e187c1",
   "metadata": {},
   "outputs": [],
   "source": [
    "import numpy as np\n",
    "import pandas as pd\n",
    "import matplotlib.pyplot as plt\n",
    "import seaborn as sns\n",
    "sns.set_style()\n",
    "%matplotlib inline"
   ]
  },
  {
   "cell_type": "code",
   "execution_count": 34,
   "id": "ba84eb54",
   "metadata": {},
   "outputs": [],
   "source": [
    "df_train = pd.read_csv(\"C:/Users/chada/Downloads/mnist/train.csv\")\n",
    "df_test = pd.read_csv(\"C:/Users/chada/Downloads/mnist/test.csv\")"
   ]
  },
  {
   "cell_type": "code",
   "execution_count": 35,
   "id": "971e5ca4",
   "metadata": {},
   "outputs": [
    {
     "data": {
      "text/plain": [
       "0        1\n",
       "1        0\n",
       "2        1\n",
       "3        4\n",
       "4        0\n",
       "        ..\n",
       "41995    0\n",
       "41996    1\n",
       "41997    7\n",
       "41998    6\n",
       "41999    9\n",
       "Name: label, Length: 42000, dtype: int64"
      ]
     },
     "execution_count": 35,
     "metadata": {},
     "output_type": "execute_result"
    }
   ],
   "source": [
    "y_train = df_train['label']\n",
    "y_train"
   ]
  },
  {
   "cell_type": "code",
   "execution_count": 36,
   "id": "ac5a9f76",
   "metadata": {},
   "outputs": [
    {
     "data": {
      "text/plain": [
       "array([[0, 0, 0, ..., 0, 0, 0],\n",
       "       [0, 0, 0, ..., 0, 0, 0],\n",
       "       [0, 0, 0, ..., 0, 0, 0],\n",
       "       ...,\n",
       "       [0, 0, 0, ..., 0, 0, 0],\n",
       "       [0, 0, 0, ..., 0, 0, 0],\n",
       "       [0, 0, 0, ..., 0, 0, 0]], dtype=int64)"
      ]
     },
     "execution_count": 36,
     "metadata": {},
     "output_type": "execute_result"
    }
   ],
   "source": [
    "x_train = df_train.drop('label', axis=1)\n",
    "x_train = x_train.values\n",
    "x_train"
   ]
  },
  {
   "cell_type": "code",
   "execution_count": 37,
   "id": "79f3e6eb",
   "metadata": {},
   "outputs": [
    {
     "data": {
      "text/plain": [
       "(42000, 784)"
      ]
     },
     "execution_count": 37,
     "metadata": {},
     "output_type": "execute_result"
    }
   ],
   "source": [
    "x_train.shape"
   ]
  },
  {
   "cell_type": "code",
   "execution_count": 38,
   "id": "c3011163",
   "metadata": {},
   "outputs": [
    {
     "data": {
      "image/png": "[encoded data removed]",
      "text/plain": [
       "<Figure size 640x480 with 1 Axes>"
      ]
     },
     "metadata": {},
     "output_type": "display_data"
    }
   ],
   "source": [
    "plt.imshow(x_train[0].reshape(28,28), cmap='Greys')\n",
    "plt.show()"
   ]
  },
  {
   "cell_type": "code",
   "execution_count": 39,
   "id": "c1de2d36",
   "metadata": {},
   "outputs": [],
   "source": [
    "x_train = x_train.reshape(42000,28,28)"
   ]
  },
  {
   "cell_type": "code",
   "execution_count": 40,
   "id": "6d1ff094",
   "metadata": {},
   "outputs": [
    {
     "data": {
      "text/plain": [
       "(42000, 28, 28)"
      ]
     },
     "execution_count": 40,
     "metadata": {},
     "output_type": "execute_result"
    }
   ],
   "source": [
    "x_train.shape"
   ]
  },
  {
   "cell_type": "code",
   "execution_count": 41,
   "id": "d06ad47a",
   "metadata": {},
   "outputs": [],
   "source": [
    "from sklearn.model_selection import train_test_split\n",
    "x_train, x_valid, y_train, y_valid = train_test_split(x_train, y_train, test_size=0.1, random_state=19)"
   ]
  },
  {
   "cell_type": "code",
   "execution_count": 42,
   "id": "770b7b18",
   "metadata": {},
   "outputs": [
    {
     "data": {
      "text/plain": [
       "(37800, 28, 28)"
      ]
     },
     "execution_count": 42,
     "metadata": {},
     "output_type": "execute_result"
    }
   ],
   "source": [
    "x_train.shape"
   ]
  },
  {
   "cell_type": "code",
   "execution_count": 43,
   "id": "9c47c7fb",
   "metadata": {},
   "outputs": [
    {
     "data": {
      "text/plain": [
       "(4200, 28, 28)"
      ]
     },
     "execution_count": 43,
     "metadata": {},
     "output_type": "execute_result"
    }
   ],
   "source": [
    "x_valid.shape"
   ]
  },
  {
   "cell_type": "code",
   "execution_count": 44,
   "id": "9d073cc0",
   "metadata": {},
   "outputs": [],
   "source": [
    "from tensorflow.keras.utils import to_categorical\n",
    "y_cat_valid = to_categorical(y_valid, num_classes=10)\n",
    "y_cat_train = to_categorical(y_train, num_classes=10)"
   ]
  },
  {
   "cell_type": "code",
   "execution_count": 45,
   "id": "436e5d2b",
   "metadata": {},
   "outputs": [
    {
     "data": {
      "image/png": "[encoded data removed]",
      "text/plain": [
       "<Figure size 640x480 with 1 Axes>"
      ]
     },
     "metadata": {},
     "output_type": "display_data"
    }
   ],
   "source": [
    "first_image = x_train[0]\n",
    "plt.imshow(first_image, cmap='Greys')\n",
    "plt.show()"
   ]
  },
  {
   "cell_type": "code",
   "execution_count": 46,
   "id": "aaf2cf33",
   "metadata": {},
   "outputs": [
    {
     "name": "stdout",
     "output_type": "stream",
     "text": [
      "Actual image:\n",
      "1\n"
     ]
    }
   ],
   "source": [
    "print('Actual image:')\n",
    "print(y_train[0])"
   ]
  },
  {
   "cell_type": "code",
   "execution_count": 47,
   "id": "eb1ca0cb",
   "metadata": {},
   "outputs": [
    {
     "data": {
      "text/plain": [
       "254"
      ]
     },
     "execution_count": 47,
     "metadata": {},
     "output_type": "execute_result"
    }
   ],
   "source": [
    "first_image.max()"
   ]
  },
  {
   "cell_type": "code",
   "execution_count": 48,
   "id": "46b394bb",
   "metadata": {},
   "outputs": [
    {
     "data": {
      "text/plain": [
       "0"
      ]
     },
     "execution_count": 48,
     "metadata": {},
     "output_type": "execute_result"
    }
   ],
   "source": [
    "first_image.min()"
   ]
  },
  {
   "cell_type": "code",
   "execution_count": 49,
   "id": "bc15f37d",
   "metadata": {},
   "outputs": [],
   "source": [
    "x_train_scaled = x_train/255\n",
    "x_valid_scaled = x_valid/255"
   ]
  },
  {
   "cell_type": "code",
   "execution_count": 50,
   "id": "0b7fbbfd",
   "metadata": {},
   "outputs": [
    {
     "data": {
      "image/png": "[encoded data removed]",
      "text/plain": [
       "<Figure size 640x480 with 1 Axes>"
      ]
     },
     "metadata": {},
     "output_type": "display_data"
    }
   ],
   "source": [
    "plt.imshow(x_train_scaled[0], cmap='Greys')\n",
    "plt.show()"
   ]
  },
  {
   "cell_type": "code",
   "execution_count": 51,
   "id": "d8641aea",
   "metadata": {},
   "outputs": [],
   "source": [
    "x_train_final = x_train_scaled.reshape(37800,28,28,1)\n",
    "x_valid_final = x_valid_scaled.reshape(4200,28,28,1)"
   ]
  },
  {
   "cell_type": "code",
   "execution_count": 52,
   "id": "577ac18a",
   "metadata": {},
   "outputs": [],
   "source": [
    "\n",
    "\n",
    "from tensorflow.keras.models import Sequential\n",
    "from tensorflow.keras.layers import Dense, Conv2D, MaxPool2D, Flatten, Dropout\n",
    "\n"
   ]
  },
  {
   "cell_type": "code",
   "execution_count": 53,
   "id": "52a9396a",
   "metadata": {},
   "outputs": [],
   "source": [
    "model = Sequential()\n",
    "\n",
    "# Convolution layer 1\n",
    "model.add(Conv2D(filters=32, kernel_size=(5,5), strides=(1,1), input_shape=(28,28,1), padding='Same', activation='relu'))\n",
    "# Convolution layer 2\n",
    "model.add(Conv2D(filters=32, kernel_size=(5,5), strides=(1,1), input_shape=(28,28,1), padding='Same', activation='relu'))\n",
    "# Pooling layer (selected half of kernel_size)\n",
    "model.add(MaxPool2D(pool_size=(2,2)))\n",
    "model.add(Dropout(0.25))\n",
    "\n",
    "# Convolution layer 3\n",
    "model.add(Conv2D(filters=32, kernel_size=(3,3), strides=(1,1), input_shape=(28,28,1), padding='Same', activation='relu'))\n",
    "# Convolution layer 4\n",
    "model.add(Conv2D(filters=32, kernel_size=(3,3), strides=(1,1), input_shape=(28,28,1), padding='Same', activation='relu'))\n",
    "# Pooling layer (selected half of kernel_size)\n",
    "model.add(MaxPool2D(pool_size=(2,2)))\n",
    "model.add(Dropout(0.25))\n",
    "\n",
    "# Flattening image\n",
    "model.add(Flatten())\n",
    "# Dense layer\n",
    "model.add(Dense(256, activation='relu'))\n",
    "\n",
    "# Output layer\n",
    "model.add(Dense(10, activation='softmax'))\n",
    "\n",
    "# Compiling model\n",
    "model.compile(loss='categorical_crossentropy', optimizer='adam', metrics=['accuracy'])"
   ]
  },
  {
   "cell_type": "code",
   "execution_count": 54,
   "id": "58d3923b",
   "metadata": {},
   "outputs": [],
   "source": [
    "\n",
    "from tensorflow.keras.callbacks import EarlyStopping"
   ]
  },
  {
   "cell_type": "code",
   "execution_count": 55,
   "id": "1550d604",
   "metadata": {},
   "outputs": [],
   "source": [
    "early_stop = EarlyStopping(monitor='val_loss', patience=2)"
   ]
  },
  {
   "cell_type": "code",
   "execution_count": 56,
   "id": "d9a23e13",
   "metadata": {},
   "outputs": [],
   "source": [
    "from tensorflow.keras.preprocessing.image import ImageDataGenerator"
   ]
  },
  {
   "cell_type": "code",
   "execution_count": 57,
   "id": "d316ca6e",
   "metadata": {},
   "outputs": [],
   "source": [
    "image_gen = ImageDataGenerator(rotation_range=10,\n",
    "                              width_shift_range=0.1,\n",
    "                              height_shift_range=0.1,\n",
    "                              shear_range=0.1,\n",
    "                              zoom_range=0.1,\n",
    "                              fill_mode='nearest')"
   ]
  },
  {
   "cell_type": "code",
   "execution_count": 58,
   "id": "a8f68c24",
   "metadata": {},
   "outputs": [],
   "source": [
    "train_image_gen = image_gen.fit(x_train_final)"
   ]
  },
  {
   "cell_type": "code",
   "execution_count": 59,
   "id": "db36a270",
   "metadata": {},
   "outputs": [],
   "source": [
    "train_image_gen"
   ]
  },
  {
   "cell_type": "code",
   "execution_count": 62,
   "id": "d884f1d4",
   "metadata": {},
   "outputs": [
    {
     "name": "stdout",
     "output_type": "stream",
     "text": [
      "Epoch 1/10\n"
     ]
    },
    {
     "name": "stderr",
     "output_type": "stream",
     "text": [
      "C:\\Users\\chada\\AppData\\Local\\Temp\\ipykernel_23488\\3436906532.py:1: UserWarning: `Model.fit_generator` is deprecated and will be removed in a future version. Please use `Model.fit`, which supports generators.\n",
      "  model.fit_generator(image_gen.flow(x_train_final, y_cat_train), epochs=10, validation_data=(x_valid_final, y_cat_valid), callbacks=[early_stop])\n"
     ]
    },
    {
     "name": "stdout",
     "output_type": "stream",
     "text": [
      "1182/1182 [==============================] - 141s 120ms/step - loss: 0.0445 - accuracy: 0.9863 - val_loss: 0.0615 - val_accuracy: 0.9802\n",
      "Epoch 2/10\n",
      "1182/1182 [==============================] - 142s 120ms/step - loss: 0.0416 - accuracy: 0.9868 - val_loss: 0.0279 - val_accuracy: 0.9910\n",
      "Epoch 3/10\n",
      "1182/1182 [==============================] - 142s 121ms/step - loss: 0.0366 - accuracy: 0.9886 - val_loss: 0.0229 - val_accuracy: 0.9945\n",
      "Epoch 4/10\n",
      "1182/1182 [==============================] - 101s 85ms/step - loss: 0.0351 - accuracy: 0.9890 - val_loss: 0.0287 - val_accuracy: 0.9917\n",
      "Epoch 5/10\n",
      "1182/1182 [==============================] - 81s 68ms/step - loss: 0.0371 - accuracy: 0.9881 - val_loss: 0.0344 - val_accuracy: 0.9914\n"
     ]
    },
    {
     "data": {
      "text/plain": [
       "<keras.src.callbacks.History at 0x22532e5f520>"
      ]
     },
     "execution_count": 62,
     "metadata": {},
     "output_type": "execute_result"
    }
   ],
   "source": [
    "model.fit_generator(image_gen.flow(x_train_final, y_cat_train), epochs=10, validation_data=(x_valid_final, y_cat_valid), callbacks=[early_stop])"
   ]
  },
  {
   "cell_type": "code",
   "execution_count": 67,
   "id": "464990b8",
   "metadata": {},
   "outputs": [
    {
     "data": {
      "text/html": [
       "<div>\n",
       "<style scoped>\n",
       "    .dataframe tbody tr th:only-of-type {\n",
       "        vertical-align: middle;\n",
       "    }\n",
       "\n",
       "    .dataframe tbody tr th {\n",
       "        vertical-align: top;\n",
       "    }\n",
       "\n",
       "    .dataframe thead th {\n",
       "        text-align: right;\n",
       "    }\n",
       "</style>\n",
       "<table border=\"1\" class=\"dataframe\">\n",
       "  <thead>\n",
       "    <tr style=\"text-align: right;\">\n",
       "      <th></th>\n",
       "      <th>loss</th>\n",
       "      <th>accuracy</th>\n",
       "      <th>val_loss</th>\n",
       "      <th>val_accuracy</th>\n",
       "    </tr>\n",
       "  </thead>\n",
       "  <tbody>\n",
       "    <tr>\n",
       "      <th>0</th>\n",
       "      <td>0.044511</td>\n",
       "      <td>0.986323</td>\n",
       "      <td>0.061499</td>\n",
       "      <td>0.980238</td>\n",
       "    </tr>\n",
       "    <tr>\n",
       "      <th>1</th>\n",
       "      <td>0.041602</td>\n",
       "      <td>0.986772</td>\n",
       "      <td>0.027896</td>\n",
       "      <td>0.990952</td>\n",
       "    </tr>\n",
       "    <tr>\n",
       "      <th>2</th>\n",
       "      <td>0.036636</td>\n",
       "      <td>0.988598</td>\n",
       "      <td>0.022929</td>\n",
       "      <td>0.994524</td>\n",
       "    </tr>\n",
       "    <tr>\n",
       "      <th>3</th>\n",
       "      <td>0.035119</td>\n",
       "      <td>0.989048</td>\n",
       "      <td>0.028716</td>\n",
       "      <td>0.991667</td>\n",
       "    </tr>\n",
       "    <tr>\n",
       "      <th>4</th>\n",
       "      <td>0.037063</td>\n",
       "      <td>0.988148</td>\n",
       "      <td>0.034444</td>\n",
       "      <td>0.991429</td>\n",
       "    </tr>\n",
       "  </tbody>\n",
       "</table>\n",
       "</div>"
      ],
      "text/plain": [
       "       loss  accuracy  val_loss  val_accuracy\n",
       "0  0.044511  0.986323  0.061499      0.980238\n",
       "1  0.041602  0.986772  0.027896      0.990952\n",
       "2  0.036636  0.988598  0.022929      0.994524\n",
       "3  0.035119  0.989048  0.028716      0.991667\n",
       "4  0.037063  0.988148  0.034444      0.991429"
      ]
     },
     "execution_count": 67,
     "metadata": {},
     "output_type": "execute_result"
    }
   ],
   "source": [
    "\n",
    "\n",
    "metrics = pd.DataFrame(model.history.history)\n",
    "metrics\n",
    "\n"
   ]
  },
  {
   "cell_type": "code",
   "execution_count": 68,
   "id": "06ca122b",
   "metadata": {},
   "outputs": [
    {
     "data": {
      "image/png": "[encoded data removed]",
      "text/plain": [
       "<Figure size 640x480 with 1 Axes>"
      ]
     },
     "metadata": {},
     "output_type": "display_data"
    }
   ],
   "source": [
    "metrics[['loss', 'val_loss']].plot()\n",
    "plt.show()"
   ]
  },
  {
   "cell_type": "code",
   "execution_count": 69,
   "id": "e95938ff",
   "metadata": {},
   "outputs": [
    {
     "data": {
      "image/png": "[encoded data removed]",
      "text/plain": [
       "<Figure size 640x480 with 1 Axes>"
      ]
     },
     "metadata": {},
     "output_type": "display_data"
    }
   ],
   "source": [
    "\n",
    "\n",
    "metrics[['accuracy', 'val_accuracy']].plot()\n",
    "plt.show()\n",
    "\n"
   ]
  },
  {
   "cell_type": "code",
   "execution_count": 70,
   "id": "ecafae52",
   "metadata": {},
   "outputs": [
    {
     "data": {
      "text/plain": [
       "[0.034443534910678864, 0.991428554058075]"
      ]
     },
     "execution_count": 70,
     "metadata": {},
     "output_type": "execute_result"
    }
   ],
   "source": [
    "\n",
    "\n",
    "model.evaluate(x_valid_final, y_cat_valid, verbose=0)\n",
    "\n"
   ]
  },
  {
   "cell_type": "code",
   "execution_count": 74,
   "id": "f985de28",
   "metadata": {},
   "outputs": [
    {
     "name": "stdout",
     "output_type": "stream",
     "text": [
      "132/132 [==============================] - 2s 16ms/step\n",
      "[7 7 5 ... 8 1 4]\n"
     ]
    }
   ],
   "source": [
    "y_pred_probabilities = model.predict(x_valid_final)\n",
    "y_pred = np.argmax(y_pred_probabilities, axis=1)\n",
    "print(y_pred)"
   ]
  },
  {
   "cell_type": "code",
   "execution_count": 75,
   "id": "dcfa4221",
   "metadata": {},
   "outputs": [
    {
     "name": "stdout",
     "output_type": "stream",
     "text": [
      "Classification Report:\n",
      "              precision    recall  f1-score   support\n",
      "\n",
      "           0       1.00      1.00      1.00       417\n",
      "           1       1.00      1.00      1.00       476\n",
      "           2       0.99      1.00      0.99       384\n",
      "           3       1.00      0.98      0.99       451\n",
      "           4       1.00      0.98      0.99       391\n",
      "           5       0.97      1.00      0.99       424\n",
      "           6       0.98      1.00      0.99       403\n",
      "           7       0.99      0.99      0.99       470\n",
      "           8       0.99      0.97      0.98       383\n",
      "           9       0.98      0.99      0.99       401\n",
      "\n",
      "    accuracy                           0.99      4200\n",
      "   macro avg       0.99      0.99      0.99      4200\n",
      "weighted avg       0.99      0.99      0.99      4200\n",
      "\n",
      "\n",
      "\n",
      "Confusion Matrix:\n",
      "[[415   0   0   0   0   0   2   0   0   0]\n",
      " [  0 476   0   0   0   0   0   0   0   0]\n",
      " [  0   0 383   0   0   0   0   0   1   0]\n",
      " [  0   0   0 444   0   3   0   1   0   3]\n",
      " [  0   1   0   0 385   0   1   1   0   3]\n",
      " [  0   0   0   0   0 423   1   0   0   0]\n",
      " [  0   0   0   0   0   2 401   0   0   0]\n",
      " [  0   0   3   0   0   0   0 466   0   1]\n",
      " [  0   0   0   1   0   5   3   0 373   1]\n",
      " [  0   0   0   0   0   1   0   1   1 398]]\n"
     ]
    }
   ],
   "source": [
    "from sklearn.metrics import classification_report, confusion_matrix\n",
    "print('Classification Report:')\n",
    "print(classification_report(y_valid, y_pred))\n",
    "print('\\n')\n",
    "print('Confusion Matrix:')\n",
    "print(confusion_matrix(y_valid, y_pred))"
   ]
  },
  {
   "cell_type": "code",
   "execution_count": 76,
   "id": "d00a73c7",
   "metadata": {},
   "outputs": [
    {
     "data": {
      "image/png": "[encoded data removed]",
      "text/plain": [
       "<Figure size 640x480 with 1 Axes>"
      ]
     },
     "metadata": {},
     "output_type": "display_data"
    }
   ],
   "source": [
    "np.random.seed(19)\n",
    "random_selection = np.random.randint(0, 4201, size=1)\n",
    "random_sample = x_valid_final[random_selection]\n",
    "plt.imshow(random_sample.reshape(28,28), cmap='Greys')\n",
    "plt.show()"
   ]
  },
  {
   "cell_type": "code",
   "execution_count": 78,
   "id": "5b5c7869",
   "metadata": {},
   "outputs": [
    {
     "name": "stdout",
     "output_type": "stream",
     "text": [
      "Prediction:\n",
      "1/1 [==============================] - 0s 16ms/step\n",
      "1\n"
     ]
    }
   ],
   "source": [
    "print('Prediction:')\n",
    "predicted_probabilities = model.predict(random_sample.reshape(1, 28, 28, 1))\n",
    "predicted_class = np.argmax(predicted_probabilities, axis=1)[0]\n",
    "print(predicted_class)"
   ]
  },
  {
   "cell_type": "code",
   "execution_count": 79,
   "id": "62860456",
   "metadata": {},
   "outputs": [
    {
     "data": {
      "image/png": "[encoded data removed]",
      "text/plain": [
       "<Figure size 640x480 with 1 Axes>"
      ]
     },
     "metadata": {},
     "output_type": "display_data"
    }
   ],
   "source": [
    "np.random.seed(20)\n",
    "random_selection_2 = np.random.randint(0, 4201, size=1)\n",
    "random_sample_2 = x_valid_final[random_selection_2]\n",
    "plt.imshow(random_sample_2.reshape(28,28), cmap='Greys')\n",
    "plt.show()"
   ]
  },
  {
   "cell_type": "code",
   "execution_count": 81,
   "id": "510369f1",
   "metadata": {},
   "outputs": [
    {
     "name": "stdout",
     "output_type": "stream",
     "text": [
      "Prediction:\n",
      "1/1 [==============================] - 0s 26ms/step\n",
      "9\n"
     ]
    }
   ],
   "source": [
    "print('Prediction:')\n",
    "predicted_probabilities = model.predict(random_sample_2.reshape(1, 28, 28, 1))\n",
    "predicted_class = np.argmax(predicted_probabilities, axis=1)[0]\n",
    "print(predicted_class)"
   ]
  },
  {
   "cell_type": "code",
   "execution_count": 82,
   "id": "275e843f",
   "metadata": {},
   "outputs": [
    {
     "data": {
      "image/png": "[encoded data removed]",
      "text/plain": [
       "<Figure size 640x480 with 1 Axes>"
      ]
     },
     "metadata": {},
     "output_type": "display_data"
    }
   ],
   "source": [
    "np.random.seed(22)\n",
    "random_selection_3 = np.random.randint(0, 4201, size=1)\n",
    "random_sample_3 = x_valid_final[random_selection_3]\n",
    "plt.imshow(random_sample_3.reshape(28,28), cmap='Greys')\n",
    "plt.show()"
   ]
  },
  {
   "cell_type": "code",
   "execution_count": 84,
   "id": "ab5347d4",
   "metadata": {},
   "outputs": [
    {
     "name": "stdout",
     "output_type": "stream",
     "text": [
      "Prediction:\n",
      "1/1 [==============================] - 0s 37ms/step\n",
      "4\n"
     ]
    }
   ],
   "source": [
    "print('Prediction:')\n",
    "predicted_probabilities = model.predict(random_sample_3.reshape(1, 28, 28, 1))\n",
    "predicted_class = np.argmax(predicted_probabilities, axis=1)[0]\n",
    "print(predicted_class)"
   ]
  },
  {
   "cell_type": "code",
   "execution_count": 85,
   "id": "c471782a",
   "metadata": {},
   "outputs": [
    {
     "data": {
      "text/plain": [
       "(28000, 28, 28)"
      ]
     },
     "execution_count": 85,
     "metadata": {},
     "output_type": "execute_result"
    }
   ],
   "source": [
    "x_test = df_test.values\n",
    "x_test = x_test.reshape(28000,28,28)\n",
    "x_test.shape"
   ]
  },
  {
   "cell_type": "code",
   "execution_count": 86,
   "id": "8ff085e4",
   "metadata": {},
   "outputs": [],
   "source": [
    "x_test_scaled = x_test/255"
   ]
  },
  {
   "cell_type": "code",
   "execution_count": 88,
   "id": "4ff3561d",
   "metadata": {},
   "outputs": [
    {
     "name": "stdout",
     "output_type": "stream",
     "text": [
      "875/875 [==============================] - 14s 16ms/step\n",
      "[2 0 9 ... 3 9 2]\n"
     ]
    }
   ],
   "source": [
    "test_predictions_probabilities = model.predict(x_test_scaled.reshape(28000, 28, 28, 1))\n",
    "test_predictions = np.argmax(test_predictions_probabilities, axis=1)\n",
    "print(test_predictions)"
   ]
  },
  {
   "cell_type": "code",
   "execution_count": 89,
   "id": "3f84daf3",
   "metadata": {},
   "outputs": [
    {
     "data": {
      "text/plain": [
       "array([2, 0, 9, ..., 3, 9, 2], dtype=int64)"
      ]
     },
     "execution_count": 89,
     "metadata": {},
     "output_type": "execute_result"
    }
   ],
   "source": [
    "\n",
    "\n",
    "test_predictions\n",
    "\n"
   ]
  },
  {
   "cell_type": "code",
   "execution_count": 90,
   "id": "5c88da31",
   "metadata": {},
   "outputs": [],
   "source": [
    "# Save test predictions to file\n",
    "output = pd.DataFrame({'ImageId': df_test.index + 1,\n",
    "                       'Label': test_predictions})\n",
    "output.to_csv('submission.csv', index=False)"
   ]
  },
  {
   "cell_type": "code",
   "execution_count": 94,
   "id": "27e297bc",
   "metadata": {
    "scrolled": false
   },
   "outputs": [
    {
     "name": "stdout",
     "output_type": "stream",
     "text": [
      "Done by Sree venkateswarlu\n"
     ]
    }
   ],
   "source": [
    "print(\"Done by Sree venkateswarlu\")"
   ]
  }
 ],
 "metadata": {
  "kernelspec": {
   "display_name": "Python 3 (ipykernel)",
   "language": "python",
   "name": "python3"
  },
  "language_info": {
   "codemirror_mode": {
    "name": "ipython",
    "version": 3
   },
   "file_extension": ".py",
   "mimetype": "text/x-python",
   "name": "python",
   "nbconvert_exporter": "python",
   "pygments_lexer": "ipython3",
   "version": "3.10.9"
  }
 },
 "nbformat": 4,
 "nbformat_minor": 5
}
